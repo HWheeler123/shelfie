{
 "cells": [
  {
   "cell_type": "markdown",
   "metadata": {},
   "source": [
    "## Imports"
   ]
  },
  {
   "cell_type": "code",
   "execution_count": 1,
   "metadata": {
    "collapsed": true
   },
   "outputs": [],
   "source": [
    "import csv\n",
    "import json\n",
    "import numpy as np\n",
    "import os\n",
    "\n",
    "from sqlalchemy import create_engine\n",
    "from sqlalchemy_utils import database_exists, create_database\n",
    "import psycopg2\n",
    "\n",
    "\n",
    "\n",
    "\n",
    "import matplotlib.pyplot as plt\n",
    "import numpy\n",
    "import pickle\n",
    "\n",
    "\n",
    "import shelfy.models.similarity"
   ]
  },
  {
   "cell_type": "markdown",
   "metadata": {},
   "source": [
    "## Levenshtein"
   ]
  },
  {
   "cell_type": "code",
   "execution_count": null,
   "metadata": {
    "collapsed": true
   },
   "outputs": [],
   "source": [
    "import sys\n",
    "import Levenshtein\n",
    "\n",
    "import matplotlib.pyplot as plt\n",
    "import numpy as np\n",
    "\n",
    "sys.path.append('../models/')\n",
    "import similarity"
   ]
  },
  {
   "cell_type": "code",
   "execution_count": null,
   "metadata": {},
   "outputs": [],
   "source": [
    "book_info = {}\n",
    "\n",
    "book_info['title'] = 'Mining the Social Web'\n",
    "book_info['authors'] = ['Matthew A. Russell']\n",
    "book_info['publisher'] = \"O'Reilly Media; Second Edition edition (October 20, 2013)\"\n",
    "\n",
    "book_words = shelfy.models.similarity.preprocess_book_info(book_info)\n",
    "print(book_words)\n",
    "\n",
    "tokens = ['SECOND', 'EDITION', 'Mining', 'the', 'Social', 'Web', 'Russell', 'Russell', 'O', 'O', \"'\", \"'\", 'REILLY', 'REILLY']\n",
    "tokens = shelfy.models.similarity.preprocess_book_tokens(tokens)\n",
    "\n",
    "print(tokens)"
   ]
  },
  {
   "cell_type": "code",
   "execution_count": null,
   "metadata": {},
   "outputs": [],
   "source": [
    "similarities = np.empty((len(tokens), len(book_words)))\n",
    "\n",
    "fig = plt.figure(figsize = (8,6))\n",
    "\n",
    "for i, token in enumerate(tokens):\n",
    "    for j, book_word in enumerate(book_words):\n",
    "        \n",
    "        similarities[i,j] = shelfy.models.similarity.single_token_inverse_weighted_levenshtein_tfidf([token], [book_word])\n",
    "        \n",
    "        #print(distance/len(token))\n",
    "        #similarities[j,i] = distance\n",
    "\n",
    "print(similarities)\n",
    "        \n",
    "plt.imshow(similarities, cmap = 'gray')\n",
    "plt.colorbar()\n",
    "\n",
    "plt.ylabel('tokens')\n",
    "plt.xlabel('book words')\n",
    "\n",
    "plt.yticks([i for i in range(len(tokens))], [token for token in tokens])\n",
    "plt.xticks([i for i in range(len(book_words))], [word for word in book_words], rotation = 90)\n",
    "\n",
    "fig.tight_layout()\n",
    "\n",
    "plt.savefig('token-matching.png', dpi = 300)\n",
    "\n",
    "plt.show()\n",
    "        "
   ]
  },
  {
   "cell_type": "markdown",
   "metadata": {},
   "source": [
    "## Similarity and right/wrong classification"
   ]
  },
  {
   "cell_type": "code",
   "execution_count": null,
   "metadata": {},
   "outputs": [],
   "source": [
    "submission_base_directory = shelfy.SHELFY_BASE_PATH + '/static/submissions/'\n",
    "submissions = [submission for submission in os.listdir(submission_base_directory)]\n",
    "submission_directories = [submission_base_directory + submission for submission in submissions]\n",
    "\n",
    "\n",
    "def get_submission_shelf_name(submission_directory):\n",
    "    with open(submission_directory + '/info.txt', 'r') as file_handle:\n",
    "        shelf_name = file_handle.readline().split('.')[0]\n",
    "    return shelf_name\n",
    "\n",
    "\n",
    "        \n",
    "\n",
    "# Loop over all submissions\n",
    "similarities = []\n",
    "corrects = []\n",
    "for i in range(len(submissions)):\n",
    "    \n",
    "    \n",
    "    # Get the book objects out\n",
    "    books_directory = submission_directories[i] + '/books/'\n",
    "    book_ids = [id for id in os.listdir(books_directory)]\n",
    "    \n",
    "    books = []\n",
    "    for book_id in book_ids:\n",
    "        with open(books_directory + book_id, 'rb') as file_handle:\n",
    "            book = pickle.load(file_handle)\n",
    "            books.append(book)\n",
    "            \n",
    "    # Get the actual list of books that are present in the image out\n",
    "    shelf_name = get_submission_shelf_name(submission_directories[i])\n",
    "    shelf_directory = shelfy.SHELFY_BASE_PATH + '/data/shelves/' + shelf_name + '/'\n",
    "    \n",
    "    titles_amazon_products = []\n",
    "    with open(shelf_directory + 'titles_amazon_products', 'r') as file_handle:\n",
    "        reader = csv.reader(file_handle, delimiter = ',')\n",
    "        for row in reader:\n",
    "            titles_amazon_products.append(row[1])\n",
    "            \n",
    "    # For each book, calculate similarity and whether match was correct or not\n",
    "    for book in books:\n",
    "        \n",
    "        # Calculate similarity\n",
    "        similarity = shelfy.models.similarity.calculate_book_score(book)\n",
    "        \n",
    "        \n",
    "        # Determine whether the match was correct or not\n",
    "        if book.book_info['title'] in titles_amazon_products:\n",
    "            correct = 1\n",
    "        else:\n",
    "            correct = 0\n",
    "            \n",
    "        # Append\n",
    "        similarities.append(similarity)\n",
    "        corrects.append(correct)\n",
    "        \n",
    "similarities = np.array(similarities)\n",
    "corrects = np.array(corrects)"
   ]
  },
  {
   "cell_type": "code",
   "execution_count": null,
   "metadata": {},
   "outputs": [],
   "source": [
    "plt.hist(similarities[np.where(corrects == 0)])\n",
    "plt.hist(similarities[corrects == 1])\n",
    "plt.show()"
   ]
  },
  {
   "cell_type": "code",
   "execution_count": null,
   "metadata": {},
   "outputs": [],
   "source": [
    "print(corrects == 0)"
   ]
  },
  {
   "cell_type": "code",
   "execution_count": null,
   "metadata": {
    "collapsed": true
   },
   "outputs": [],
   "source": []
  }
 ],
 "metadata": {
  "kernelspec": {
   "display_name": "Python 3",
   "language": "python",
   "name": "python3"
  },
  "language_info": {
   "codemirror_mode": {
    "name": "ipython",
    "version": 3
   },
   "file_extension": ".py",
   "mimetype": "text/x-python",
   "name": "python",
   "nbconvert_exporter": "python",
   "pygments_lexer": "ipython3",
   "version": "3.6.1"
  }
 },
 "nbformat": 4,
 "nbformat_minor": 2
}
