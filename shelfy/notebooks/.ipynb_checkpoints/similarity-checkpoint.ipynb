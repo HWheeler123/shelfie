{
 "cells": [
  {
   "cell_type": "markdown",
   "metadata": {},
   "source": [
    "## Imports"
   ]
  },
  {
   "cell_type": "code",
   "execution_count": null,
   "metadata": {
    "collapsed": true
   },
   "outputs": [],
   "source": [
    "import json\n",
    "\n",
    "from sqlalchemy import create_engine\n",
    "from sqlalchemy_utils import database_exists, create_database\n",
    "import psycopg2\n",
    "\n",
    "\n",
    "\n",
    "\n",
    "import matplotlib.pyplot as plt\n",
    "import numpy\n",
    "\n",
    "\n",
    "import shelfy.models.similarity"
   ]
  },
  {
   "cell_type": "markdown",
   "metadata": {},
   "source": [
    "## Load SQL stuff"
   ]
  },
  {
   "cell_type": "code",
   "execution_count": null,
   "metadata": {},
   "outputs": [],
   "source": [
    "# Define a database name (we're using a dataset on births, so we'll call it birth_db)\n",
    "# Set your postgres username/password, and connection specifics\n",
    "username = 'postgres'\n",
    "password = 'password'     # change this\n",
    "host     = 'localhost'\n",
    "port     = '5432'            # default port that postgres listens on\n",
    "db_name  = 'books'\n",
    "\n",
    "\n",
    "\n",
    "\n",
    "## 'engine' is a connection to a database\n",
    "## Here, we're using postgres, but sqlalchemy can connect to other things too.\n",
    "engine = create_engine( 'postgresql://{}:{}@{}:{}/{}'.format(username, password, host, port, db_name) )\n",
    "print(engine.url)\n",
    "\n",
    "\n",
    "\n",
    "\n",
    "\n",
    "\n",
    "## create a database (if it doesn't exist)\n",
    "if not database_exists(engine.url):\n",
    "    create_database(engine.url)\n",
    "print(database_exists(engine.url))\n",
    "\n",
    "\n",
    "\n",
    "\n",
    "con = psycopg2.connect(database = db_name, user = username, password = password, host = host)\n",
    "cursor = con.cursor()"
   ]
  },
  {
   "cell_type": "code",
   "execution_count": null,
   "metadata": {},
   "outputs": [],
   "source": [
    "command = '''\n",
    "SELECT title FROM titles;\n",
    "'''\n",
    "\n",
    "cursor.execute(command)\n",
    "titles = cursor.fetchall()\n",
    "titles = [title[0].lower() for title in titles]"
   ]
  },
  {
   "cell_type": "markdown",
   "metadata": {},
   "source": [
    "## Levenshtein"
   ]
  },
  {
   "cell_type": "code",
   "execution_count": null,
   "metadata": {
    "collapsed": true
   },
   "outputs": [],
   "source": [
    "import sys\n",
    "import Levenshtein\n",
    "\n",
    "import matplotlib.pyplot as plt\n",
    "import numpy as np\n",
    "\n",
    "sys.path.append('../models/')\n",
    "import similarity"
   ]
  },
  {
   "cell_type": "code",
   "execution_count": null,
   "metadata": {},
   "outputs": [],
   "source": [
    "book_info = {}\n",
    "\n",
    "book_info['title'] = 'Mining the Social Web'\n",
    "book_info['authors'] = ['Matthew A. Russell']\n",
    "book_info['publisher'] = \"O'Reilly Media; Second Edition edition (October 20, 2013)\"\n",
    "\n",
    "book_words = shelfy.models.similarity.preprocess_book_info(book_info)\n",
    "print(book_words)\n",
    "\n",
    "tokens = ['SECOND', 'EDITION', 'Mining', 'the', 'Social', 'Web', 'Russell', 'Russell', 'O', 'O', \"'\", \"'\", 'REILLY', 'REILLY']\n",
    "tokens = shelfy.models.similarity.preprocess_book_tokens(tokens)\n",
    "\n",
    "print(tokens)"
   ]
  },
  {
   "cell_type": "code",
   "execution_count": null,
   "metadata": {},
   "outputs": [],
   "source": [
    "similarities = np.empty((len(tokens), len(book_words)))\n",
    "\n",
    "for i, token in enumerate(tokens):\n",
    "    for j, book_word in enumerate(book_words):\n",
    "        \n",
    "        similarities[i,j] = shelfy.models.similarity.single_token_inverse_weighted_levenshtein_tfidf([token], [book_word])\n",
    "        \n",
    "        #print(distance/len(token))\n",
    "        #similarities[j,i] = distance\n",
    "\n",
    "print(similarities)\n",
    "        \n",
    "plt.imshow(similarities, cmap = 'gray')\n",
    "plt.colorbar()\n",
    "\n",
    "plt.ylabel('tokens')\n",
    "plt.xlabel('book words')\n",
    "\n",
    "plt.yticks([i for i in range(len(tokens))], [token for token in tokens])\n",
    "plt.xticks([i for i in range(len(book_words))], [word for word in book_words], rotation = 90)\n",
    "\n",
    "\n",
    "plt.show()\n",
    "        "
   ]
  },
  {
   "cell_type": "code",
   "execution_count": null,
   "metadata": {},
   "outputs": [],
   "source": [
    "print(shelfy.models.similarity.single_token_inverse_weighted_levenshtein_tfidf(['a'], ['b']))"
   ]
  },
  {
   "cell_type": "code",
   "execution_count": null,
   "metadata": {},
   "outputs": [],
   "source": [
    "print(tokens)\n",
    "\n",
    "print(book_words)\n",
    "\n",
    "print(similarity.single_token_levenshtein(tokens, book_words))"
   ]
  },
  {
   "cell_type": "code",
   "execution_count": null,
   "metadata": {},
   "outputs": [],
   "source": [
    "print(Levenshtein.distance('asdf', 'asdf'))"
   ]
  },
  {
   "cell_type": "code",
   "execution_count": null,
   "metadata": {
    "collapsed": true
   },
   "outputs": [],
   "source": []
  }
 ],
 "metadata": {
  "kernelspec": {
   "display_name": "Python 3",
   "language": "python",
   "name": "python3"
  },
  "language_info": {
   "codemirror_mode": {
    "name": "ipython",
    "version": 3
   },
   "file_extension": ".py",
   "mimetype": "text/x-python",
   "name": "python",
   "nbconvert_exporter": "python",
   "pygments_lexer": "ipython3",
   "version": "3.6.1"
  }
 },
 "nbformat": 4,
 "nbformat_minor": 2
}
