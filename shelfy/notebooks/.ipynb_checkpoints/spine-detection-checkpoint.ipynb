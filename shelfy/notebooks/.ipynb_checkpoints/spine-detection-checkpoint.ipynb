{
 "cells": [
  {
   "cell_type": "markdown",
   "metadata": {},
   "source": [
    "## Imports"
   ]
  },
  {
   "cell_type": "code",
   "execution_count": null,
   "metadata": {
    "collapsed": true
   },
   "outputs": [],
   "source": [
    "import cv2\n",
    "import numpy as np\n",
    "import matplotlib.pyplot as plt\n",
    "import scipy.ndimage\n",
    "import skimage.filters\n",
    "import scipy.stats\n",
    "\n",
    "\n",
    "import shelfy.models.image_processing as ip"
   ]
  },
  {
   "cell_type": "markdown",
   "metadata": {
    "collapsed": true
   },
   "source": [
    "## Spine detection"
   ]
  },
  {
   "cell_type": "code",
   "execution_count": null,
   "metadata": {
    "collapsed": true
   },
   "outputs": [],
   "source": [
    "# Load image\n",
    "shelf = 'home_6'\n",
    "file_directory = '/home/prestonh/Desktop/Programming/datasci/insight/projects/shelfy/shelfy/data/shelves/' + shelf + '/'\n",
    "file_name = shelf + '.jpg'\n",
    "file_path = file_directory + file_name\n",
    "img = cv2.imread(file_path)"
   ]
  },
  {
   "cell_type": "code",
   "execution_count": null,
   "metadata": {
    "scrolled": false
   },
   "outputs": [],
   "source": [
    "lines = ip.get_book_lines(img, debug = True)"
   ]
  },
  {
   "cell_type": "markdown",
   "metadata": {},
   "source": [
    "## Spine detection"
   ]
  },
  {
   "cell_type": "code",
   "execution_count": null,
   "metadata": {
    "collapsed": true
   },
   "outputs": [],
   "source": [
    "# Load image\n",
    "shelf = 'insight_3'\n",
    "file_directory = '/home/prestonh/Desktop/Programming/datasci/insight/projects/shelfy/shelfy/data/shelves/' + shelf + '/'\n",
    "file_name = shelf + '.jpg'\n",
    "file_path = file_directory + file_name\n",
    "img = cv2.imread(file_path)"
   ]
  },
  {
   "cell_type": "code",
   "execution_count": null,
   "metadata": {},
   "outputs": [],
   "source": [
    "ip.get_shelves(img, debug = True)"
   ]
  },
  {
   "cell_type": "markdown",
   "metadata": {
    "collapsed": true
   },
   "source": [
    "## Workshop"
   ]
  },
  {
   "cell_type": "code",
   "execution_count": null,
   "metadata": {
    "collapsed": true
   },
   "outputs": [],
   "source": [
    "import cv2\n",
    "import numpy as np\n",
    "import matplotlib.pyplot as plt\n",
    "import scipy.ndimage\n",
    "import skimage.filters\n",
    "import scipy.stats\n",
    "\n",
    "\n",
    "import shelfy.models.image_processing as ip"
   ]
  },
  {
   "cell_type": "code",
   "execution_count": null,
   "metadata": {
    "collapsed": true
   },
   "outputs": [],
   "source": [
    "# Load image\n",
    "shelf = 'insight_3'\n",
    "file_directory = '/home/prestonh/Desktop/Programming/datasci/insight/projects/shelfy/shelfy/data/shelves/' + shelf + '/'\n",
    "file_name = shelf + '.jpg'\n",
    "file_path = file_directory + file_name\n",
    "img = cv2.imread(file_path)"
   ]
  },
  {
   "cell_type": "code",
   "execution_count": null,
   "metadata": {
    "collapsed": true
   },
   "outputs": [],
   "source": [
    "debug = True\n",
    "\n",
    "# Colorize\n",
    "#proc_img = np.mean(img, axis = 2)\n",
    "proc_img = cv2.cvtColor(img, cv2.COLOR_BGR2HSV)[:,:,2]\n",
    "\n",
    "\n",
    "# Blur\n",
    "proc_img = ip.gaussian_blur(proc_img, sigma = 3, debug = debug)\n",
    "\n",
    "\n",
    "# Sobel\n",
    "proc_img = ip.laplace_squared(proc_img, debug = debug)\n",
    "\n",
    "# Standardize\n",
    "proc_img = ip.standardize(proc_img, debug = debug)\n",
    "\n",
    "\n",
    "\n",
    "\n",
    "\n",
    "# Binarize\n",
    "proc_img = ip.binarize(proc_img, cutoff = 0.01, debug = debug)\n",
    "\n",
    "# Erode subtract\n",
    "#structure_length = 5\n",
    "#iterations = 1\n",
    "#proc_img = ip.erode_subtract(proc_img, structure_length, debug = debug)\n",
    "\n",
    "    \n",
    "\n",
    "for i in range(50):\n",
    "    # Erode\n",
    "    proc_img = ip.vertical_erode(proc_img, structure_length = 1, iterations = 2, debug = debug)\n",
    "    # Dilate\n",
    "    proc_img = ip.vertical_dilate(proc_img, structure_length = 1, iterations = 1, debug = debug)\n",
    "\n",
    "'''# Hough\n",
    "lines = cv2.HoughLines(proc_img.astype(np.uint8),1,np.pi/180,200)\n",
    "plt.imshow(proc_img, cmap = 'gray')\n",
    "for rho, theta in lines[:,0,:]:\n",
    "    a = np.cos(theta)\n",
    "    b = np.sin(theta)\n",
    "    x0 = a*rho\n",
    "    y0 = b*rho\n",
    "    x1 = int(x0 + 1000*(-b))\n",
    "    y1 = int(y0 + 1000*(a))\n",
    "    x2 = int(x0 - 1000*(-b))\n",
    "    y2 = int(y0 - 1000*(a))\n",
    "    \n",
    "    plt.plot([x1,x2],[y1,y2])\n",
    "\n",
    "plt.xlim(0, proc_img.shape[1])\n",
    "plt.ylim(proc_img.shape[0], 0)\n",
    "\n",
    "plt.show()\n",
    "'''\n",
    "    "
   ]
  },
  {
   "cell_type": "code",
   "execution_count": null,
   "metadata": {
    "collapsed": true
   },
   "outputs": [],
   "source": []
  }
 ],
 "metadata": {
  "kernelspec": {
   "display_name": "Python 3",
   "language": "python",
   "name": "python3"
  },
  "language_info": {
   "codemirror_mode": {
    "name": "ipython",
    "version": 3
   },
   "file_extension": ".py",
   "mimetype": "text/x-python",
   "name": "python",
   "nbconvert_exporter": "python",
   "pygments_lexer": "ipython3",
   "version": "3.6.1"
  }
 },
 "nbformat": 4,
 "nbformat_minor": 2
}
