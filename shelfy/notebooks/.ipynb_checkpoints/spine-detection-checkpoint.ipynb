{
 "cells": [
  {
   "cell_type": "markdown",
   "metadata": {},
   "source": [
    "## Imports"
   ]
  },
  {
   "cell_type": "code",
   "execution_count": null,
   "metadata": {},
   "outputs": [],
   "source": [
    "import cv2\n",
    "import numpy as np\n",
    "import matplotlib.pyplot as plt\n",
    "import scipy.ndimage\n",
    "import skimage.filters\n",
    "import scipy.stats\n",
    "import shelfy.models.image_processing"
   ]
  },
  {
   "cell_type": "markdown",
   "metadata": {
    "collapsed": true
   },
   "source": [
    "## Spine detection"
   ]
  },
  {
   "cell_type": "code",
   "execution_count": null,
   "metadata": {
    "collapsed": true
   },
   "outputs": [],
   "source": [
    "# Load image\n",
    "shelf = 'insight_0'\n",
    "file_directory = '/home/prestonh/Desktop/Programming/datasci/insight/projects/shelfy/shelfy/data/shelves/' + shelf + '/'\n",
    "file_name = shelf + '.jpg'\n",
    "file_path = file_directory + file_name"
   ]
  },
  {
   "cell_type": "code",
   "execution_count": null,
   "metadata": {
    "scrolled": false
   },
   "outputs": [],
   "source": [
    "img = cv2.imread(file_path)\n",
    "\n",
    "lines = shelfy.models.image_processing.get_book_lines(img, debug = True)"
   ]
  },
  {
   "cell_type": "code",
   "execution_count": null,
   "metadata": {
    "collapsed": true
   },
   "outputs": [],
   "source": []
  },
  {
   "cell_type": "code",
   "execution_count": null,
   "metadata": {
    "collapsed": true
   },
   "outputs": [],
   "source": []
  },
  {
   "cell_type": "code",
   "execution_count": null,
   "metadata": {
    "collapsed": true
   },
   "outputs": [],
   "source": []
  },
  {
   "cell_type": "code",
   "execution_count": null,
   "metadata": {
    "collapsed": true
   },
   "outputs": [],
   "source": []
  },
  {
   "cell_type": "code",
   "execution_count": null,
   "metadata": {
    "collapsed": true
   },
   "outputs": [],
   "source": []
  },
  {
   "cell_type": "code",
   "execution_count": null,
   "metadata": {
    "collapsed": true
   },
   "outputs": [],
   "source": []
  },
  {
   "cell_type": "code",
   "execution_count": null,
   "metadata": {
    "collapsed": true
   },
   "outputs": [],
   "source": []
  },
  {
   "cell_type": "code",
   "execution_count": null,
   "metadata": {
    "collapsed": true
   },
   "outputs": [],
   "source": []
  },
  {
   "cell_type": "code",
   "execution_count": null,
   "metadata": {
    "collapsed": true
   },
   "outputs": [],
   "source": []
  },
  {
   "cell_type": "code",
   "execution_count": null,
   "metadata": {
    "collapsed": true
   },
   "outputs": [],
   "source": []
  },
  {
   "cell_type": "code",
   "execution_count": null,
   "metadata": {
    "collapsed": true
   },
   "outputs": [],
   "source": []
  },
  {
   "cell_type": "code",
   "execution_count": null,
   "metadata": {
    "collapsed": true
   },
   "outputs": [],
   "source": []
  },
  {
   "cell_type": "markdown",
   "metadata": {},
   "source": [
    "# Copy\n",
    "proc_img = np.mean(img[:,:], axis = 2).astype(np.uint8)\n",
    "\n",
    "\n",
    "# Down sample\n",
    "num_downsamples = 3\n",
    "for i in range(num_downsamples):\n",
    "    proc_img = scipy.ndimage.interpolation.zoom(proc_img,.5)\n",
    "\n",
    "    if debug:\n",
    "        print('downsample', i)\n",
    "        plot_img(proc_img, show = True)\n",
    "\n",
    "\n",
    "\n",
    "## Sobel x\n",
    "proc_img = cv2.Sobel(proc_img, cv2.CV_8UC1, 1, 0, ksize = -1)**2.\n",
    "\n",
    "\n",
    "if debug:\n",
    "    print('sobel x')\n",
    "    plot_img(proc_img)\n",
    "\n",
    "\n",
    "\n",
    "# Standardize\n",
    "proc_img = (proc_img - np.min(proc_img))/np.max(proc_img)\n",
    "\n",
    "if debug:\n",
    "    print('standardize')\n",
    "    plot_img(proc_img)\n",
    "\n",
    "\n",
    "# Digitize\n",
    "img_max = np.max(proc_img)\n",
    "img_min = np.min(proc_img)\n",
    "num_levels = 4\n",
    "bins = [1.*i*(img_max-img_min)/num_levels for i in range(0, num_levels)]\n",
    "proc_img = np.digitize(proc_img, bins)\n",
    "\n",
    "if debug:\n",
    "    print('digitize')\n",
    "    plot_img(proc_img, show = True)\n",
    "\n",
    "\n",
    "\n",
    "# Binarize\n",
    "proc_img[proc_img == np.min(proc_img)] = 0\n",
    "proc_img[proc_img != 0] = 1\n",
    "\n",
    "\n",
    "if debug:\n",
    "    print('binarize')\n",
    "    plot_img(proc_img, show = True)\n",
    "\n",
    "\n",
    "# Horizontal erosion and subtraction\n",
    "for i in range(1):\n",
    "    structure_length = 5*(i+1)\n",
    "    #structure = np.ones((3,3))*structure_length\n",
    "    structure = np.ones((3,3))*structure_length\n",
    "    old_proc_img = np.copy(proc_img)\n",
    "    proc_img = proc_img - scipy.ndimage.morphology.binary_erosion(proc_img, structure, 1)\n",
    "\n",
    "    if debug:\n",
    "        print('erode/subtract')\n",
    "        plot_img(proc_img, show = True)\n",
    "\n",
    "\n",
    "# Vertical erode\n",
    "for i in range(1):\n",
    "    structure_length = 200\n",
    "    #structure = np.array([[0,1,0],[0,1,0],[0,1,0]])*structure_length\n",
    "    structure = np.array([[0,1,0],[0,1,0],[0,1,0]])*structure_length\n",
    "    proc_img = scipy.ndimage.morphology.binary_erosion(proc_img, structure, 3)\n",
    "\n",
    "    if debug:\n",
    "        print('morpho erode')\n",
    "        plot_img(proc_img, show = True)\n",
    "\n",
    "# Vertical dilate\n",
    "for i in range(1):\n",
    "    structure_length = 3\n",
    "    #structure = np.array([[0,1,0],[0,1,0],[0,1,0]])*structure_length\n",
    "    structure = np.array([[0,1,0],[0,1,0],[0,1,0]])*structure_length\n",
    "    proc_img = scipy.ndimage.morphology.binary_dilation(proc_img, structure, 3)\n",
    "\n",
    "    if debug:\n",
    "        print('morpho dilate')\n",
    "        plot_img(proc_img, show = True)\n",
    "\n",
    "\n",
    "\n",
    "\n",
    "\n",
    "# Connected components\n",
    "proc_img, unique_values = scipy.ndimage.label(proc_img, structure = np.ones((3,3)))\n",
    "\n",
    "unique_values = list(range(unique_values))\n",
    "\n",
    "\n",
    "\n",
    "\n",
    "\n",
    "if debug:\n",
    "    print('Digitize')\n",
    "    plt.imshow(proc_img)\n",
    "    plt.show()\n",
    "    \n",
    "    \n",
    "# Remove clusters too small\n",
    "drop_values = []\n",
    "threshold = proc_img.shape[0]*.15\n",
    "for unique_value in unique_values:\n",
    "    bright_pixels = np.where(proc_img == unique_value)\n",
    "    ptp = np.ptp(bright_pixels[0])\n",
    "\n",
    "\n",
    "\n",
    "    if(ptp < threshold):\n",
    "        drop_values.append(unique_value)\n",
    "\n",
    "for drop_value in drop_values:\n",
    "    proc_img[proc_img == drop_value] = 0\n",
    "\n",
    "if debug:\n",
    "    print('Remove clusters that are too small')\n",
    "    plot_img(proc_img, show = True)\n",
    "\n",
    "\n",
    "# Re-binarize\n",
    "proc_img[proc_img != 0] = 1\n",
    "\n",
    "if debug:\n",
    "    print('Binarize')\n",
    "    plot_img(proc_img, show = True)\n",
    "\n",
    "\n",
    "# Horizontal dilate\n",
    "for i in range(1):\n",
    "    structure_length = 3\n",
    "    structure = np.array([[1,1,1],[1,1,1],[1,1,1]])*structure_length\n",
    "    proc_img = scipy.ndimage.morphology.binary_dilation(proc_img, structure, 1)\n",
    "\n",
    "    if debug:\n",
    "        print('morpho dilate')\n",
    "        plot_img(proc_img, show = True)\n",
    "\n",
    "\n",
    "# Up sample\n",
    "proc_img = proc_img.repeat(8, axis = 0).repeat(8, axis = 1)\n",
    "\n",
    "\n",
    "# Connected components\n",
    "proc_img, unique_values = scipy.ndimage.label(proc_img, structure = np.ones((3,3)))\n",
    "unique_values = list(range(unique_values))\n",
    "\n",
    "# Lines\n",
    "ms = []\n",
    "bs = []\n",
    "for unique_value in unique_values:\n",
    "    line = np.where(proc_img == unique_value)\n",
    "    xs = line[1]\n",
    "    ys = line[0]\n",
    "\n",
    "\n",
    "    m, b, r, p, std = scipy.stats.linregress(xs,ys)\n",
    "    ms.append(m)\n",
    "    bs.append(b)\n",
    "\n",
    "\n",
    "\n",
    "\n",
    "\n",
    "new_img = np.copy(img[:,:,::-1])\n",
    "new_img[proc_img != 0,:] = [0,255,128]\n",
    "\n",
    "\n",
    "\n",
    "plot_img(new_img, show = False)\n",
    "\n",
    "for i in range(len(ms)):\n",
    "    y0 = 0\n",
    "    y1 = new_img.shape[0]\n",
    "    x0 = (y0-bs[i])/ms[i]\n",
    "    x1 = (y1-bs[i])/ms[i]\n",
    "    \n",
    "    plt.plot([x0,x1],[y0,y1], c = 'yellow', lw = 3)\n",
    "    \n",
    "plt.xlim(0, new_img.shape[1])\n",
    "plt.ylim(new_img.shape[0], 0)\n",
    "\n",
    "plt.show()\n",
    "\n",
    "\n",
    "\n"
   ]
  },
  {
   "cell_type": "code",
   "execution_count": null,
   "metadata": {},
   "outputs": [],
   "source": [
    "print(ms, bs)\n",
    "plt.scatter(ms, bs, marker = '.')\n",
    "plt.show()"
   ]
  },
  {
   "cell_type": "code",
   "execution_count": null,
   "metadata": {
    "collapsed": true
   },
   "outputs": [],
   "source": []
  }
 ],
 "metadata": {
  "kernelspec": {
   "display_name": "Python 3",
   "language": "python",
   "name": "python3"
  },
  "language_info": {
   "codemirror_mode": {
    "name": "ipython",
    "version": 3
   },
   "file_extension": ".py",
   "mimetype": "text/x-python",
   "name": "python",
   "nbconvert_exporter": "python",
   "pygments_lexer": "ipython3",
   "version": "3.6.1"
  }
 },
 "nbformat": 4,
 "nbformat_minor": 2
}
