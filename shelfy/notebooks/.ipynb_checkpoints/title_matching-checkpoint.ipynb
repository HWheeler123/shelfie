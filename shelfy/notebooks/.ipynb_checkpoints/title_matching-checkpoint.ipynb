{
 "cells": [
  {
   "cell_type": "markdown",
   "metadata": {},
   "source": [
    "# Title matching\n",
    "\n",
    "Given the actual titles of books on bookshelves (manually entered), queries each of the book information sources for the titles that they return; this is used in order to actually determine whether a true match is made or not when some book information is obtained\n",
    "\n",
    "Saves the information to the correct place."
   ]
  },
  {
   "cell_type": "markdown",
   "metadata": {},
   "source": [
    "## Imports"
   ]
  },
  {
   "cell_type": "code",
   "execution_count": 3,
   "metadata": {},
   "outputs": [],
   "source": [
    "import os\n",
    "\n",
    "import shelfy\n",
    "import shelfy.models.scraper"
   ]
  },
  {
   "cell_type": "markdown",
   "metadata": {},
   "source": [
    "## Load a bookshelf"
   ]
  },
  {
   "cell_type": "code",
   "execution_count": 13,
   "metadata": {},
   "outputs": [
    {
     "name": "stdout",
     "output_type": "stream",
     "text": [
      "['MySQL', 'MySQL Crash Course', 'NoSQL Distilled', 'HADOOP in Practice', 'HTML and CSS', 'HTML & CSS', 'JavaScript Patterns', 'Supercharged Javascript Graphics', 'Interactive Data Visualization for the Web', 'Introduction to Algorithms']\n"
     ]
    }
   ],
   "source": [
    "# Set directories\n",
    "bookshelf_directory = shelfy.SHELFY_BASE_PATH + '/data/shelves/'\n",
    "bookshelf_name = 'insight_0'\n",
    "bookshelf_path = bookshelf_directory + bookshelf_name + '/titles'\n",
    "\n",
    "\n",
    "# Read book titles in from plain text file\n",
    "book_titles = []\n",
    "with open(bookshelf_path, 'r') as file_handle:\n",
    "    for book_title in file_handle:\n",
    "        book_titles.append(book_title.replace('\\n', ''))\n",
    "        \n",
    "print(book_titles)"
   ]
  },
  {
   "cell_type": "markdown",
   "metadata": {},
   "source": [
    "## Perform the queries"
   ]
  },
  {
   "cell_type": "code",
   "execution_count": 16,
   "metadata": {},
   "outputs": [
    {
     "name": "stdout",
     "output_type": "stream",
     "text": [
      "['https://www.google.com/search?q=amazon+book+MySQL', 'https://www.google.com/search?q=amazon+book+MySQL+Crash+Course', 'https://www.google.com/search?q=amazon+book+NoSQL+Distilled', 'https://www.google.com/search?q=amazon+book+HADOOP+in+Practice', 'https://www.google.com/search?q=amazon+book+HTML+and+CSS', 'https://www.google.com/search?q=amazon+book+HTML+&+CSS', 'https://www.google.com/search?q=amazon+book+JavaScript+Patterns', 'https://www.google.com/search?q=amazon+book+Supercharged+Javascript+Graphics', 'https://www.google.com/search?q=amazon+book+Interactive+Data+Visualization+for+the+Web', 'https://www.google.com/search?q=amazon+book+Introduction+to+Algorithms']\n"
     ]
    }
   ],
   "source": [
    "query_google_urls = [shelfy.models.scraper.get_google_search_url_from_query(book_title) for book_title in book_titles]\n",
    "\n",
    "print(query_google_urls)"
   ]
  },
  {
   "cell_type": "markdown",
   "metadata": {},
   "source": [
    "##### ISBN's"
   ]
  },
  {
   "cell_type": "code",
   "execution_count": null,
   "metadata": {
    "collapsed": true
   },
   "outputs": [],
   "source": [
    "isbns = []\n",
    "for i in range(len(query_google_urls)):\n",
    "    isbn = None\n",
    "    while isbn == None:\n",
    "        isbn = get_isbn10_from_google_search(query_google_urls[i])\n",
    "    print(isbn)\n",
    "    isbns.append(isbn)\n",
    "        "
   ]
  },
  {
   "cell_type": "markdown",
   "metadata": {},
   "source": [
    "##### Google books"
   ]
  },
  {
   "cell_type": "code",
   "execution_count": null,
   "metadata": {
    "collapsed": true
   },
   "outputs": [],
   "source": []
  },
  {
   "cell_type": "code",
   "execution_count": null,
   "metadata": {
    "collapsed": true
   },
   "outputs": [],
   "source": []
  }
 ],
 "metadata": {
  "kernelspec": {
   "display_name": "Python 3",
   "language": "python",
   "name": "python3"
  },
  "language_info": {
   "codemirror_mode": {
    "name": "ipython",
    "version": 3
   },
   "file_extension": ".py",
   "mimetype": "text/x-python",
   "name": "python",
   "nbconvert_exporter": "python",
   "pygments_lexer": "ipython3",
   "version": "3.6.1"
  }
 },
 "nbformat": 4,
 "nbformat_minor": 2
}
