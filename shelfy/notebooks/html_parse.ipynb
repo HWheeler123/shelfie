{
 "cells": [
  {
   "cell_type": "code",
   "execution_count": 2,
   "metadata": {
    "collapsed": true
   },
   "outputs": [],
   "source": [
    "import requests\n",
    "from bs4 import BeautifulSoup"
   ]
  },
  {
   "cell_type": "markdown",
   "metadata": {},
   "source": [
    "## Google parse"
   ]
  },
  {
   "cell_type": "code",
   "execution_count": 11,
   "metadata": {
    "scrolled": false
   },
   "outputs": [
    {
     "name": "stdout",
     "output_type": "stream",
     "text": [
      "https://www.amazon.com/Dance-Dragons-Song-Ice-Fire/dp/0553582011\n",
      "https://webcache.googleusercontent.com/search?q=cache:JFAnvmpYHPkJ:https://www.amazon.com/Dance-Dragons-Song-Ice-Fire/dp/0553582011+&cd=1&hl=en&ct=clnk&gl=us\n",
      "/search?q=related:https://www.amazon.com/Dance-Dragons-Song-Ice-Fire/dp/0553582011+amazon+a+dance+with+dragons&tbo=1&sa=X&ved=0ahUKEwj-r5iBnNvYAhUGKGMKHZqRCAMQHwgrMAA\n",
      "https://www.amazon.com/Dance-Dragons-Song-Fire-Book-ebook/dp/B003YL4LYI\n",
      "https://webcache.googleusercontent.com/search?q=cache:qoPNQD2X3q8J:https://www.amazon.com/Dance-Dragons-Song-Fire-Book-ebook/dp/B003YL4LYI+&cd=2&hl=en&ct=clnk&gl=us\n",
      "/search?q=related:https://www.amazon.com/Dance-Dragons-Song-Fire-Book-ebook/dp/B003YL4LYI+amazon+a+dance+with+dragons&tbo=1&sa=X&ved=0ahUKEwj-r5iBnNvYAhUGKGMKHZqRCAMQHwgxMAE\n",
      "https://www.amazon.com/Dance-Dragons-Song-Fire-Book/dp/B005C7QVUE\n",
      "https://webcache.googleusercontent.com/search?q=cache:_VHtbmP3gswJ:https://www.amazon.com/Dance-Dragons-Song-Fire-Book/dp/B005C7QVUE+&cd=3&hl=en&ct=clnk&gl=us\n",
      "/search?q=related:https://www.amazon.com/Dance-Dragons-Song-Fire-Book/dp/B005C7QVUE+amazon+a+dance+with+dragons&tbo=1&sa=X&ved=0ahUKEwj-r5iBnNvYAhUGKGMKHZqRCAMQHwg4MAI\n",
      "https://www.amazon.com/Dance-Dragons-Song-Fire-Book-ebook/dp/B004XISI4A\n",
      "https://webcache.googleusercontent.com/search?q=cache:F5a5sF3DSaAJ:https://www.amazon.com/Dance-Dragons-Song-Fire-Book-ebook/dp/B004XISI4A+&cd=4&hl=en&ct=clnk&gl=us\n",
      "/search?q=related:https://www.amazon.com/Dance-Dragons-Song-Fire-Book-ebook/dp/B004XISI4A+amazon+a+dance+with+dragons&tbo=1&sa=X&ved=0ahUKEwj-r5iBnNvYAhUGKGMKHZqRCAMQHwg-MAM\n",
      "https://www.amazon.com/Dance-Dragons-Song-Fire-Korean/dp/895660715X\n",
      "https://webcache.googleusercontent.com/search?q=cache:ohCSqmTQSWQJ:https://www.amazon.com/Dance-Dragons-Song-Fire-Korean/dp/895660715X+&cd=5&hl=en&ct=clnk&gl=us\n",
      "https://www.amazon.com/Dance-Dragons-Book-Song-Fire/dp/B005C7QVY0\n",
      "https://webcache.googleusercontent.com/search?q=cache:cvQf1JmELm4J:https://www.amazon.com/Dance-Dragons-Book-Song-Fire/dp/B005C7QVY0+&cd=6&hl=en&ct=clnk&gl=us\n",
      "/search?q=related:https://www.amazon.com/Dance-Dragons-Book-Song-Fire/dp/B005C7QVY0+amazon+a+dance+with+dragons&tbo=1&sa=X&ved=0ahUKEwj-r5iBnNvYAhUGKGMKHZqRCAMQHwhKMAU\n",
      "https://www.amazon.com/Dance-Dragons-Song-Ice-Fire/product-reviews/0553582011\n",
      "https://webcache.googleusercontent.com/search?q=cache:-tMmA0PQX8QJ:https://www.amazon.com/Dance-Dragons-Song-Ice-Fire/product-reviews/0553582011+&cd=7&hl=en&ct=clnk&gl=us\n",
      "https://www.amazon.com/Dance-Dragons-Part-Dreams-Dust/dp/0007548281\n",
      "https://webcache.googleusercontent.com/search?q=cache:D8zMShYSmzMJ:https://www.amazon.com/Dance-Dragons-Part-Dreams-Dust/dp/0007548281+&cd=8&hl=en&ct=clnk&gl=us\n",
      "https://www.amazon.com/Dance-Dragons-Part-Dreams-Dust/dp/000812230X\n",
      "https://webcache.googleusercontent.com/search?q=cache:qaX8JO2re8sJ:https://www.amazon.com/Dance-Dragons-Part-Dreams-Dust/dp/000812230X+&cd=9&hl=en&ct=clnk&gl=us\n",
      "https://www.amazon.com/gp/bookseries/B00SNNWPIQ/ref=dp_st_000754829X\n",
      "https://webcache.googleusercontent.com/search?q=cache:LIkyNsfY9pEJ:https://www.amazon.com/gp/bookseries/B00SNNWPIQ/ref%3Ddp_st_000754829X+&cd=10&hl=en&ct=clnk&gl=us\n"
     ]
    }
   ],
   "source": [
    "url = 'https://www.google.com/search?q=amazon+a+dance+with+dragons'\n",
    "\n",
    "\n",
    "ua = {'User-Agent': 'Mozilla/5.0 (Macintosh; Intel Mac OS X 10_8_2) AppleWebKit/537.36 (KHTML, like Gecko) Chrome/27.0.1453.116 Safari/537.36'}                                                                \n",
    "\n",
    "response = requests.get(url, headers=ua)\n",
    "content = response.content\n",
    "\n",
    "# Parse for amazon link\n",
    "soup = BeautifulSoup(content, 'html.parser')\n",
    "\n",
    "for link in soup.find_all('a'):\n",
    "    url = str(link.get('href'))\n",
    "    if 'www.amazon.com' in url:\n",
    "        print(url)\n"
   ]
  },
  {
   "cell_type": "code",
   "execution_count": null,
   "metadata": {
    "collapsed": true
   },
   "outputs": [],
   "source": []
  },
  {
   "cell_type": "markdown",
   "metadata": {},
   "source": [
    "## Amazon parse"
   ]
  },
  {
   "cell_type": "code",
   "execution_count": 2,
   "metadata": {},
   "outputs": [
    {
     "ename": "IndentationError",
     "evalue": "expected an indented block (<ipython-input-2-542ea0b9328e>, line 13)",
     "output_type": "error",
     "traceback": [
      "\u001b[0;36m  File \u001b[0;32m\"<ipython-input-2-542ea0b9328e>\"\u001b[0;36m, line \u001b[0;32m13\u001b[0m\n\u001b[0;31m    print(link)\u001b[0m\n\u001b[0m        ^\u001b[0m\n\u001b[0;31mIndentationError\u001b[0m\u001b[0;31m:\u001b[0m expected an indented block\n"
     ]
    }
   ],
   "source": [
    "    \n",
    "link = 'https://www.amazon.com/Guide-Future-Medicine-Technology-Human-ebook/dp/B00N3Z7NMC'\n",
    "    \n",
    "ua = {'User-Agent': 'Mozilla/5.0 (Macintosh; Intel Mac OS X 10_8_2) AppleWebKit/537.36 (KHTML, like Gecko) Chrome/27.0.1453.116 Safari/537.36'}                                                                \n",
    "\n",
    "response = requests.get(link, headers=ua)\n",
    "content = response.content\n",
    "\n",
    "# Parse for amazon link\n",
    "soup = BeautifulSoup(content, 'html.parser')\n",
    "\n",
    "for link in soup.find_all('a'):\n",
    "    print(link)"
   ]
  },
  {
   "cell_type": "code",
   "execution_count": 10,
   "metadata": {},
   "outputs": [
    {
     "name": "stdout",
     "output_type": "stream",
     "text": [
      "A Dance with Dragons (A Song of Ice and Fire)\n",
      "George R. R. Martin\n",
      "[]\n"
     ]
    }
   ],
   "source": [
    "#url = 'https://www.amazon.com/Guide-Future-Medicine-Technology-Human-ebook/dp/B00N3Z7NMC'\n",
    "url = 'https://www.amazon.com/Dance-Dragons-Song-Ice-Fire/dp/0553582011'\n",
    "\n",
    "\n",
    "ua = {'User-Agent': 'Mozilla/5.0 (Macintosh; Intel Mac OS X 10_8_2) AppleWebKit/537.36 (KHTML, like Gecko) Chrome/27.0.1453.116 Safari/537.36'}\n",
    "response = requests.get(url, headers=ua)\n",
    "content = response.content\n",
    "\n",
    "# Parse for amazon link\n",
    "soup = BeautifulSoup(content, 'html.parser')\n",
    "\n",
    "\n",
    "\n",
    "\n"
   ]
  },
  {
   "cell_type": "code",
   "execution_count": 53,
   "metadata": {},
   "outputs": [
    {
     "name": "stdout",
     "output_type": "stream",
     "text": [
      "0553582011\n"
     ]
    }
   ],
   "source": [
    "# Title\n",
    "try:\n",
    "    title = soup.find_all(id='productTitle')[0].contents[0]\n",
    "    #print(title)\n",
    "except:\n",
    "    print(\"couldn't find title\")\n",
    "\n",
    "    \n",
    "    \n",
    "    \n",
    "# Author\n",
    "try:\n",
    "    author = soup.find_all(class_ = 'a-link-normal contributorNameID')[0].contents[0]\n",
    "    #print(author)\n",
    "except:\n",
    "    print(\"couldn't find title\")\n",
    "    \n",
    "    \n",
    "# ISBN-10\n",
    "try:\n",
    "    book_details = soup.findAll(id = 'detail-bullets')\n",
    "    \n",
    "    \n",
    "    for line in str(book_details[0]).split('\\n'):\n",
    "        if 'ISBN-10' in line:\n",
    "            print(line[20:30])\n",
    "        \n",
    "    #print(str(book_details[0]).split('\\n'))\n",
    "    \n",
    "    #print(str(book_details).split('\\n'))\n",
    "except:\n",
    "    print(\"couldn't find isbn 13\")"
   ]
  },
  {
   "cell_type": "code",
   "execution_count": null,
   "metadata": {
    "collapsed": true
   },
   "outputs": [],
   "source": []
  }
 ],
 "metadata": {
  "kernelspec": {
   "display_name": "Python 3",
   "language": "python",
   "name": "python3"
  },
  "language_info": {
   "codemirror_mode": {
    "name": "ipython",
    "version": 3
   },
   "file_extension": ".py",
   "mimetype": "text/x-python",
   "name": "python",
   "nbconvert_exporter": "python",
   "pygments_lexer": "ipython3",
   "version": "3.6.1"
  }
 },
 "nbformat": 4,
 "nbformat_minor": 2
}
