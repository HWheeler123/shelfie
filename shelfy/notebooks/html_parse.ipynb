{
 "cells": [
  {
   "cell_type": "code",
   "execution_count": null,
   "metadata": {
    "collapsed": true
   },
   "outputs": [],
   "source": [
    "import requests\n",
    "from bs4 import BeautifulSoup"
   ]
  },
  {
   "cell_type": "markdown",
   "metadata": {},
   "source": [
    "## Google parse"
   ]
  },
  {
   "cell_type": "code",
   "execution_count": null,
   "metadata": {
    "scrolled": false
   },
   "outputs": [],
   "source": [
    "url = 'https://www.google.com/search?q=amazon+a+dance+with+dragons'\n",
    "\n",
    "\n",
    "ua = {'User-Agent': 'Mozilla/5.0 (Macintosh; Intel Mac OS X 10_8_2) AppleWebKit/537.36 (KHTML, like Gecko) Chrome/27.0.1453.116 Safari/537.36'}                                                                \n",
    "\n",
    "response = requests.get(url, headers=ua)\n",
    "content = response.content\n",
    "\n",
    "# Parse for amazon link\n",
    "soup = BeautifulSoup(content, 'html.parser')\n",
    "\n",
    "for link in soup.find_all('a'):\n",
    "    url = str(link.get('href'))\n",
    "    if 'www.amazon.com' in url:\n",
    "        print(url)\n"
   ]
  },
  {
   "cell_type": "code",
   "execution_count": null,
   "metadata": {
    "collapsed": true
   },
   "outputs": [],
   "source": []
  },
  {
   "cell_type": "markdown",
   "metadata": {},
   "source": [
    "## Amazon parse"
   ]
  },
  {
   "cell_type": "code",
   "execution_count": null,
   "metadata": {},
   "outputs": [],
   "source": [
    "link = 'https://www.amazon.com/Cryptonomicon-Neal-Stephenson/dp/0060512806'\n",
    "\n",
    "ua = {'User-Agent': 'Mozilla/5.0 (Macintosh; Intel Mac OS X 10_8_2) AppleWebKit/537.36 (KHTML, like Gecko) Chrome/27.0.1453.116 Safari/537.36'}                                                                \n",
    "\n",
    "response = requests.get(link, headers=ua)\n",
    "content = response.content\n",
    "\n",
    "# Parse for amazon link\n",
    "soup = BeautifulSoup(content, 'html.parser')"
   ]
  },
  {
   "cell_type": "code",
   "execution_count": null,
   "metadata": {
    "scrolled": false
   },
   "outputs": [],
   "source": [
    "print(str(soup))"
   ]
  },
  {
   "cell_type": "code",
   "execution_count": 29,
   "metadata": {},
   "outputs": [
    {
     "name": "stdout",
     "output_type": "stream",
     "text": [
      "Cryptonomicon\n",
      "Neal Stephenson\n",
      "0060512806\n"
     ]
    }
   ],
   "source": [
    "# Title\n",
    "try:\n",
    "    #print(soup.find_all(id='productTitle'))\n",
    "    title = soup.find_all(id='productTitle')[0].contents[0]\n",
    "    print(title)\n",
    "except:\n",
    "    print(\"couldn't find title\")\n",
    "\n",
    "    \n",
    "    \n",
    "    \n",
    "# Author\n",
    "try:\n",
    "    author = soup.find_all(class_ = 'a-link-normal contributorNameID')[0].contents[0]\n",
    "    print(author)\n",
    "except:\n",
    "    print(\"couldn't find title\")\n",
    "    \n",
    "    \n",
    "# ISBN-10\n",
    "try:\n",
    "    book_details = soup.findAll(id = 'detail-bullets')\n",
    "    \n",
    "    for line in str(book_details[0]).split('\\n'):\n",
    "        if 'ISBN-10' in line:\n",
    "            print(line[20:30])\n",
    "        \n",
    "    #print(str(book_details[0]).split('\\n'))\n",
    "    \n",
    "    #print(str(book_details).split('\\n'))\n",
    "except:\n",
    "    print(\"couldn't find isbn 13\")"
   ]
  },
  {
   "cell_type": "code",
   "execution_count": null,
   "metadata": {
    "collapsed": true
   },
   "outputs": [],
   "source": []
  }
 ],
 "metadata": {
  "kernelspec": {
   "display_name": "Python 3",
   "language": "python",
   "name": "python3"
  },
  "language_info": {
   "codemirror_mode": {
    "name": "ipython",
    "version": 3
   },
   "file_extension": ".py",
   "mimetype": "text/x-python",
   "name": "python",
   "nbconvert_exporter": "python",
   "pygments_lexer": "ipython3",
   "version": "3.6.1"
  }
 },
 "nbformat": 4,
 "nbformat_minor": 2
}
