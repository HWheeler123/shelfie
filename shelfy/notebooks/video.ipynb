{
 "cells": [
  {
   "cell_type": "markdown",
   "metadata": {
    "collapsed": true
   },
   "source": [
    "## Imports"
   ]
  },
  {
   "cell_type": "code",
   "execution_count": 9,
   "metadata": {},
   "outputs": [],
   "source": [
    "import cv2\n",
    "import numpy as np"
   ]
  },
  {
   "cell_type": "markdown",
   "metadata": {},
   "source": [
    "## Load file"
   ]
  },
  {
   "cell_type": "code",
   "execution_count": 25,
   "metadata": {},
   "outputs": [
    {
     "name": "stdout",
     "output_type": "stream",
     "text": [
      "/home/prestonh/Desktop/Programming/datasci/insight/projects/shelfy/shelfy/notebooks\r\n"
     ]
    }
   ],
   "source": [
    "!pwd"
   ]
  },
  {
   "cell_type": "code",
   "execution_count": 29,
   "metadata": {},
   "outputs": [
    {
     "name": "stdout",
     "output_type": "stream",
     "text": [
      "~/home/prestonh/Desktop/Programming/datasci/insight/projects/shelfy/shelfy/data/img/vid.mp4\n",
      "False\n"
     ]
    }
   ],
   "source": [
    "file_directory = '~/home/prestonh/Desktop/Programming/datasci/insight/projects/shelfy/shelfy/data/img'\n",
    "#file_directory = '../data/img'\n",
    "file_name = '/vid.mp4'\n",
    "file_path = file_directory + file_name\n",
    "\n",
    "print(file_path)\n",
    "\n",
    "\n",
    "cap = cv2.VideoCapture(file_path)\n",
    "\n",
    "print(cap.isOpened())\n"
   ]
  },
  {
   "cell_type": "code",
   "execution_count": 27,
   "metadata": {
    "scrolled": true
   },
   "outputs": [
    {
     "name": "stdout",
     "output_type": "stream",
     "text": [
      "['__class__', '__delattr__', '__dir__', '__doc__', '__eq__', '__format__', '__ge__', '__getattribute__', '__gt__', '__hash__', '__init__', '__init_subclass__', '__le__', '__lt__', '__ne__', '__new__', '__reduce__', '__reduce_ex__', '__repr__', '__setattr__', '__sizeof__', '__str__', '__subclasshook__', 'get', 'grab', 'isOpened', 'open', 'read', 'release', 'retrieve', 'set']\n",
      "False None\n"
     ]
    }
   ],
   "source": [
    "print(dir(cap))\n",
    "\n",
    "\n",
    "ret, frame = cap.read()\n",
    "print(ret, frame)\n"
   ]
  },
  {
   "cell_type": "code",
   "execution_count": null,
   "metadata": {
    "collapsed": true
   },
   "outputs": [],
   "source": []
  }
 ],
 "metadata": {
  "kernelspec": {
   "display_name": "Python 3",
   "language": "python",
   "name": "python3"
  },
  "language_info": {
   "codemirror_mode": {
    "name": "ipython",
    "version": 3
   },
   "file_extension": ".py",
   "mimetype": "text/x-python",
   "name": "python",
   "nbconvert_exporter": "python",
   "pygments_lexer": "ipython3",
   "version": "3.6.1"
  }
 },
 "nbformat": 4,
 "nbformat_minor": 2
}
